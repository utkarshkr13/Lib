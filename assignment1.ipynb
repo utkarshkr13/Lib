{
  "cells": [
    {
      "cell_type": "markdown",
      "metadata": {
        "id": "view-in-github",
        "colab_type": "text"
      },
      "source": [
        "<a href=\"https://colab.research.google.com/github/utkarshkr13/Lib/blob/master/assignment1.ipynb\" target=\"_parent\"><img src=\"https://colab.research.google.com/assets/colab-badge.svg\" alt=\"Open In Colab\"/></a>"
      ]
    },
    {
      "cell_type": "markdown",
      "id": "cc24a77d",
      "metadata": {
        "id": "cc24a77d"
      },
      "source": [
        "# Assignment"
      ]
    },
    {
      "cell_type": "markdown",
      "id": "dc729020",
      "metadata": {
        "id": "dc729020"
      },
      "source": [
        "Task1:Create a pandas dataframe (DataFrame name as 'df') with numpy random values (4 features and 4 observation)"
      ]
    },
    {
      "cell_type": "code",
      "execution_count": null,
      "id": "f8848367",
      "metadata": {
        "id": "f8848367"
      },
      "outputs": [],
      "source": [
        "import pandas as pd"
      ]
    },
    {
      "cell_type": "code",
      "execution_count": null,
      "id": "dc9bc9f8",
      "metadata": {
        "id": "dc9bc9f8"
      },
      "outputs": [],
      "source": [
        "import numpy as np"
      ]
    },
    {
      "cell_type": "code",
      "execution_count": null,
      "id": "441229d9",
      "metadata": {
        "id": "441229d9"
      },
      "outputs": [],
      "source": [
        "features=4\n",
        "observations=4"
      ]
    },
    {
      "cell_type": "code",
      "execution_count": null,
      "id": "999338d4",
      "metadata": {
        "id": "999338d4"
      },
      "outputs": [],
      "source": [
        "data = np.random.rand(features,observations)"
      ]
    },
    {
      "cell_type": "code",
      "execution_count": null,
      "id": "4d08ec89",
      "metadata": {
        "id": "4d08ec89"
      },
      "outputs": [],
      "source": [
        "df = pd.DataFrame(data)"
      ]
    },
    {
      "cell_type": "code",
      "execution_count": null,
      "id": "d1d78812",
      "metadata": {
        "id": "d1d78812",
        "outputId": "122bd0f7-f0b5-422a-959b-b5317f611a73"
      },
      "outputs": [
        {
          "data": {
            "text/html": [
              "<div>\n",
              "<style scoped>\n",
              "    .dataframe tbody tr th:only-of-type {\n",
              "        vertical-align: middle;\n",
              "    }\n",
              "\n",
              "    .dataframe tbody tr th {\n",
              "        vertical-align: top;\n",
              "    }\n",
              "\n",
              "    .dataframe thead th {\n",
              "        text-align: right;\n",
              "    }\n",
              "</style>\n",
              "<table border=\"1\" class=\"dataframe\">\n",
              "  <thead>\n",
              "    <tr style=\"text-align: right;\">\n",
              "      <th></th>\n",
              "      <th>0</th>\n",
              "      <th>1</th>\n",
              "      <th>2</th>\n",
              "      <th>3</th>\n",
              "    </tr>\n",
              "  </thead>\n",
              "  <tbody>\n",
              "    <tr>\n",
              "      <th>0</th>\n",
              "      <td>0.910200</td>\n",
              "      <td>0.959571</td>\n",
              "      <td>0.501000</td>\n",
              "      <td>0.178035</td>\n",
              "    </tr>\n",
              "    <tr>\n",
              "      <th>1</th>\n",
              "      <td>0.722800</td>\n",
              "      <td>0.005450</td>\n",
              "      <td>0.447438</td>\n",
              "      <td>0.696339</td>\n",
              "    </tr>\n",
              "    <tr>\n",
              "      <th>2</th>\n",
              "      <td>0.148168</td>\n",
              "      <td>0.069099</td>\n",
              "      <td>0.310997</td>\n",
              "      <td>0.175993</td>\n",
              "    </tr>\n",
              "    <tr>\n",
              "      <th>3</th>\n",
              "      <td>0.066104</td>\n",
              "      <td>0.607890</td>\n",
              "      <td>0.535186</td>\n",
              "      <td>0.093640</td>\n",
              "    </tr>\n",
              "  </tbody>\n",
              "</table>\n",
              "</div>"
            ],
            "text/plain": [
              "          0         1         2         3\n",
              "0  0.910200  0.959571  0.501000  0.178035\n",
              "1  0.722800  0.005450  0.447438  0.696339\n",
              "2  0.148168  0.069099  0.310997  0.175993\n",
              "3  0.066104  0.607890  0.535186  0.093640"
            ]
          },
          "execution_count": 6,
          "metadata": {},
          "output_type": "execute_result"
        }
      ],
      "source": [
        "df"
      ]
    },
    {
      "cell_type": "markdown",
      "id": "2d6fdbee",
      "metadata": {
        "id": "2d6fdbee"
      },
      "source": [
        "Task 2:Rename the Task 1 'df' dataframe column names to 'Random value 1', 'Random value 2', 'Random value 3' & 'Random value 4'"
      ]
    },
    {
      "cell_type": "code",
      "execution_count": null,
      "id": "a2cb21db",
      "metadata": {
        "id": "a2cb21db"
      },
      "outputs": [],
      "source": [
        "new_column={ 0: 'Random value 1',1: 'Random value 2',2: 'Random value 3',3: 'Random value 4'}"
      ]
    },
    {
      "cell_type": "code",
      "execution_count": null,
      "id": "b6521388",
      "metadata": {
        "id": "b6521388"
      },
      "outputs": [],
      "source": [
        "df.rename(columns=new_column, inplace=True)"
      ]
    },
    {
      "cell_type": "code",
      "execution_count": null,
      "id": "426882dc",
      "metadata": {
        "id": "426882dc",
        "outputId": "5ec26c64-ce8d-40e5-a6e1-25e5a37b85cf"
      },
      "outputs": [
        {
          "data": {
            "text/html": [
              "<div>\n",
              "<style scoped>\n",
              "    .dataframe tbody tr th:only-of-type {\n",
              "        vertical-align: middle;\n",
              "    }\n",
              "\n",
              "    .dataframe tbody tr th {\n",
              "        vertical-align: top;\n",
              "    }\n",
              "\n",
              "    .dataframe thead th {\n",
              "        text-align: right;\n",
              "    }\n",
              "</style>\n",
              "<table border=\"1\" class=\"dataframe\">\n",
              "  <thead>\n",
              "    <tr style=\"text-align: right;\">\n",
              "      <th></th>\n",
              "      <th>Random value 1</th>\n",
              "      <th>Random value 2</th>\n",
              "      <th>Random value 3</th>\n",
              "      <th>Random value 4</th>\n",
              "    </tr>\n",
              "  </thead>\n",
              "  <tbody>\n",
              "    <tr>\n",
              "      <th>0</th>\n",
              "      <td>0.910200</td>\n",
              "      <td>0.959571</td>\n",
              "      <td>0.501000</td>\n",
              "      <td>0.178035</td>\n",
              "    </tr>\n",
              "    <tr>\n",
              "      <th>1</th>\n",
              "      <td>0.722800</td>\n",
              "      <td>0.005450</td>\n",
              "      <td>0.447438</td>\n",
              "      <td>0.696339</td>\n",
              "    </tr>\n",
              "    <tr>\n",
              "      <th>2</th>\n",
              "      <td>0.148168</td>\n",
              "      <td>0.069099</td>\n",
              "      <td>0.310997</td>\n",
              "      <td>0.175993</td>\n",
              "    </tr>\n",
              "    <tr>\n",
              "      <th>3</th>\n",
              "      <td>0.066104</td>\n",
              "      <td>0.607890</td>\n",
              "      <td>0.535186</td>\n",
              "      <td>0.093640</td>\n",
              "    </tr>\n",
              "  </tbody>\n",
              "</table>\n",
              "</div>"
            ],
            "text/plain": [
              "   Random value 1  Random value 2  Random value 3  Random value 4\n",
              "0        0.910200        0.959571        0.501000        0.178035\n",
              "1        0.722800        0.005450        0.447438        0.696339\n",
              "2        0.148168        0.069099        0.310997        0.175993\n",
              "3        0.066104        0.607890        0.535186        0.093640"
            ]
          },
          "execution_count": 12,
          "metadata": {},
          "output_type": "execute_result"
        }
      ],
      "source": [
        "df"
      ]
    },
    {
      "cell_type": "markdown",
      "id": "fbff8d10",
      "metadata": {
        "id": "fbff8d10"
      },
      "source": [
        "Task3: Find the descriptive statistics of the 'df' dataframe"
      ]
    },
    {
      "cell_type": "code",
      "execution_count": null,
      "id": "ff4e44a3",
      "metadata": {
        "id": "ff4e44a3",
        "outputId": "723245dc-c893-45ac-ced9-3fb0770987b2"
      },
      "outputs": [
        {
          "data": {
            "text/html": [
              "<div>\n",
              "<style scoped>\n",
              "    .dataframe tbody tr th:only-of-type {\n",
              "        vertical-align: middle;\n",
              "    }\n",
              "\n",
              "    .dataframe tbody tr th {\n",
              "        vertical-align: top;\n",
              "    }\n",
              "\n",
              "    .dataframe thead th {\n",
              "        text-align: right;\n",
              "    }\n",
              "</style>\n",
              "<table border=\"1\" class=\"dataframe\">\n",
              "  <thead>\n",
              "    <tr style=\"text-align: right;\">\n",
              "      <th></th>\n",
              "      <th>Random value 1</th>\n",
              "      <th>Random value 2</th>\n",
              "      <th>Random value 3</th>\n",
              "      <th>Random value 4</th>\n",
              "    </tr>\n",
              "  </thead>\n",
              "  <tbody>\n",
              "    <tr>\n",
              "      <th>count</th>\n",
              "      <td>4.000000</td>\n",
              "      <td>4.000000</td>\n",
              "      <td>4.000000</td>\n",
              "      <td>4.000000</td>\n",
              "    </tr>\n",
              "    <tr>\n",
              "      <th>mean</th>\n",
              "      <td>0.461818</td>\n",
              "      <td>0.410502</td>\n",
              "      <td>0.448655</td>\n",
              "      <td>0.286002</td>\n",
              "    </tr>\n",
              "    <tr>\n",
              "      <th>std</th>\n",
              "      <td>0.417981</td>\n",
              "      <td>0.454995</td>\n",
              "      <td>0.098622</td>\n",
              "      <td>0.276368</td>\n",
              "    </tr>\n",
              "    <tr>\n",
              "      <th>min</th>\n",
              "      <td>0.066104</td>\n",
              "      <td>0.005450</td>\n",
              "      <td>0.310997</td>\n",
              "      <td>0.093640</td>\n",
              "    </tr>\n",
              "    <tr>\n",
              "      <th>25%</th>\n",
              "      <td>0.127652</td>\n",
              "      <td>0.053186</td>\n",
              "      <td>0.413328</td>\n",
              "      <td>0.155405</td>\n",
              "    </tr>\n",
              "    <tr>\n",
              "      <th>50%</th>\n",
              "      <td>0.435484</td>\n",
              "      <td>0.338494</td>\n",
              "      <td>0.474219</td>\n",
              "      <td>0.177014</td>\n",
              "    </tr>\n",
              "    <tr>\n",
              "      <th>75%</th>\n",
              "      <td>0.769650</td>\n",
              "      <td>0.695810</td>\n",
              "      <td>0.509547</td>\n",
              "      <td>0.307611</td>\n",
              "    </tr>\n",
              "    <tr>\n",
              "      <th>max</th>\n",
              "      <td>0.910200</td>\n",
              "      <td>0.959571</td>\n",
              "      <td>0.535186</td>\n",
              "      <td>0.696339</td>\n",
              "    </tr>\n",
              "  </tbody>\n",
              "</table>\n",
              "</div>"
            ],
            "text/plain": [
              "       Random value 1  Random value 2  Random value 3  Random value 4\n",
              "count        4.000000        4.000000        4.000000        4.000000\n",
              "mean         0.461818        0.410502        0.448655        0.286002\n",
              "std          0.417981        0.454995        0.098622        0.276368\n",
              "min          0.066104        0.005450        0.310997        0.093640\n",
              "25%          0.127652        0.053186        0.413328        0.155405\n",
              "50%          0.435484        0.338494        0.474219        0.177014\n",
              "75%          0.769650        0.695810        0.509547        0.307611\n",
              "max          0.910200        0.959571        0.535186        0.696339"
            ]
          },
          "execution_count": 14,
          "metadata": {},
          "output_type": "execute_result"
        }
      ],
      "source": [
        "df.describe()"
      ]
    },
    {
      "cell_type": "markdown",
      "id": "dfab7d2d",
      "metadata": {
        "id": "dfab7d2d"
      },
      "source": [
        "Task:4 Check for the null values in 'df' and find the data type of the columns"
      ]
    },
    {
      "cell_type": "code",
      "execution_count": null,
      "id": "09d3ffa8",
      "metadata": {
        "id": "09d3ffa8",
        "outputId": "6caf98c6-c3a3-4e23-e1a2-d394054dd844"
      },
      "outputs": [
        {
          "data": {
            "text/plain": [
              "Random value 1    False\n",
              "Random value 2    False\n",
              "Random value 3    False\n",
              "Random value 4    False\n",
              "dtype: bool"
            ]
          },
          "execution_count": 17,
          "metadata": {},
          "output_type": "execute_result"
        }
      ],
      "source": [
        "df.isnull().any()"
      ]
    },
    {
      "cell_type": "code",
      "execution_count": null,
      "id": "659e234c",
      "metadata": {
        "id": "659e234c",
        "outputId": "82eeb157-7212-4bc2-df50-603c898e56e5"
      },
      "outputs": [
        {
          "data": {
            "text/plain": [
              "Random value 1    0\n",
              "Random value 2    0\n",
              "Random value 3    0\n",
              "Random value 4    0\n",
              "dtype: int64"
            ]
          },
          "execution_count": 18,
          "metadata": {},
          "output_type": "execute_result"
        }
      ],
      "source": [
        "df.isnull().sum()"
      ]
    },
    {
      "cell_type": "markdown",
      "id": "5b2c9d1b",
      "metadata": {
        "id": "5b2c9d1b"
      },
      "source": [
        "Task:5 Display the 'Random value 2' & 'Random value 3' columns with location method and index location method"
      ]
    },
    {
      "cell_type": "code",
      "execution_count": null,
      "id": "4fe233d7",
      "metadata": {
        "id": "4fe233d7",
        "outputId": "ab2312d9-c2b2-46b9-c74e-93fd729c5601"
      },
      "outputs": [
        {
          "data": {
            "text/html": [
              "<div>\n",
              "<style scoped>\n",
              "    .dataframe tbody tr th:only-of-type {\n",
              "        vertical-align: middle;\n",
              "    }\n",
              "\n",
              "    .dataframe tbody tr th {\n",
              "        vertical-align: top;\n",
              "    }\n",
              "\n",
              "    .dataframe thead th {\n",
              "        text-align: right;\n",
              "    }\n",
              "</style>\n",
              "<table border=\"1\" class=\"dataframe\">\n",
              "  <thead>\n",
              "    <tr style=\"text-align: right;\">\n",
              "      <th></th>\n",
              "      <th>Random value 2</th>\n",
              "      <th>Random value 3</th>\n",
              "    </tr>\n",
              "  </thead>\n",
              "  <tbody>\n",
              "    <tr>\n",
              "      <th>0</th>\n",
              "      <td>0.959571</td>\n",
              "      <td>0.501000</td>\n",
              "    </tr>\n",
              "    <tr>\n",
              "      <th>1</th>\n",
              "      <td>0.005450</td>\n",
              "      <td>0.447438</td>\n",
              "    </tr>\n",
              "    <tr>\n",
              "      <th>2</th>\n",
              "      <td>0.069099</td>\n",
              "      <td>0.310997</td>\n",
              "    </tr>\n",
              "    <tr>\n",
              "      <th>3</th>\n",
              "      <td>0.607890</td>\n",
              "      <td>0.535186</td>\n",
              "    </tr>\n",
              "  </tbody>\n",
              "</table>\n",
              "</div>"
            ],
            "text/plain": [
              "   Random value 2  Random value 3\n",
              "0        0.959571        0.501000\n",
              "1        0.005450        0.447438\n",
              "2        0.069099        0.310997\n",
              "3        0.607890        0.535186"
            ]
          },
          "execution_count": 19,
          "metadata": {},
          "output_type": "execute_result"
        }
      ],
      "source": [
        "df.loc[:, ['Random value 2','Random value 3']]"
      ]
    },
    {
      "cell_type": "code",
      "execution_count": null,
      "id": "80ae135c",
      "metadata": {
        "id": "80ae135c",
        "outputId": "9430c355-1e29-432f-c9e8-32ae2cd65962"
      },
      "outputs": [
        {
          "data": {
            "text/html": [
              "<div>\n",
              "<style scoped>\n",
              "    .dataframe tbody tr th:only-of-type {\n",
              "        vertical-align: middle;\n",
              "    }\n",
              "\n",
              "    .dataframe tbody tr th {\n",
              "        vertical-align: top;\n",
              "    }\n",
              "\n",
              "    .dataframe thead th {\n",
              "        text-align: right;\n",
              "    }\n",
              "</style>\n",
              "<table border=\"1\" class=\"dataframe\">\n",
              "  <thead>\n",
              "    <tr style=\"text-align: right;\">\n",
              "      <th></th>\n",
              "      <th>Random value 2</th>\n",
              "      <th>Random value 3</th>\n",
              "    </tr>\n",
              "  </thead>\n",
              "  <tbody>\n",
              "    <tr>\n",
              "      <th>0</th>\n",
              "      <td>0.959571</td>\n",
              "      <td>0.501000</td>\n",
              "    </tr>\n",
              "    <tr>\n",
              "      <th>1</th>\n",
              "      <td>0.005450</td>\n",
              "      <td>0.447438</td>\n",
              "    </tr>\n",
              "    <tr>\n",
              "      <th>2</th>\n",
              "      <td>0.069099</td>\n",
              "      <td>0.310997</td>\n",
              "    </tr>\n",
              "    <tr>\n",
              "      <th>3</th>\n",
              "      <td>0.607890</td>\n",
              "      <td>0.535186</td>\n",
              "    </tr>\n",
              "  </tbody>\n",
              "</table>\n",
              "</div>"
            ],
            "text/plain": [
              "   Random value 2  Random value 3\n",
              "0        0.959571        0.501000\n",
              "1        0.005450        0.447438\n",
              "2        0.069099        0.310997\n",
              "3        0.607890        0.535186"
            ]
          },
          "execution_count": 20,
          "metadata": {},
          "output_type": "execute_result"
        }
      ],
      "source": [
        "df.iloc[:,[1,2]]"
      ]
    },
    {
      "cell_type": "code",
      "execution_count": null,
      "id": "9f15bb21",
      "metadata": {
        "id": "9f15bb21"
      },
      "outputs": [],
      "source": []
    }
  ],
  "metadata": {
    "kernelspec": {
      "display_name": "Python 3 (ipykernel)",
      "language": "python",
      "name": "python3"
    },
    "language_info": {
      "codemirror_mode": {
        "name": "ipython",
        "version": 3
      },
      "file_extension": ".py",
      "mimetype": "text/x-python",
      "name": "python",
      "nbconvert_exporter": "python",
      "pygments_lexer": "ipython3",
      "version": "3.9.12"
    },
    "colab": {
      "provenance": [],
      "include_colab_link": true
    }
  },
  "nbformat": 4,
  "nbformat_minor": 5
}